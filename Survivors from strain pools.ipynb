{
 "cells": [
  {
   "cell_type": "markdown",
   "id": "1928b4d3",
   "metadata": {},
   "source": [
    "### Fine-scale diversity due to satellite niches in ecosystems with boom-and-bust cycles\n",
    "\n",
    "It has long been known that more than one strains with similar functions can coexist in both natural and lab environments, yet the mechanism behind remains as a puzzle. Here, we propose a model to study this coexitence, where strains that obey Monod's growth law undergo boom and bust cycles. \n",
    "\n",
    "Here, we take strain pools of different species (defined by having a distinct function, i.e. portion of protein it use to consume different resources) and investigate the survivors from such pools. We see that there can be multiple strains from the same species coexisting in the final state. We say these strains are in satellite niches of their species. "
   ]
  },
  {
   "cell_type": "code",
   "execution_count": 1,
   "id": "52da93ca",
   "metadata": {},
   "outputs": [],
   "source": [
    "import matplotlib.pyplot as plt\n",
    "import numpy as np\n",
    "from scipy.integrate import solve_ivp\n",
    "import copy\n",
    "import pickle\n",
    "from math import *\n",
    "from matplotlib.colors import ListedColormap, LinearSegmentedColormap\n",
    "import seaborn as sns\n",
    "\n",
    "%matplotlib inline"
   ]
  },
  {
   "cell_type": "code",
   "execution_count": 2,
   "id": "cdec2ede",
   "metadata": {},
   "outputs": [],
   "source": [
    "# g: maximum growth rate\n",
    "# K: Monod constant\n",
    "def OneStep(t, u, p, x):# Just set R=1 and Y=[1, ..1] for simplicity\n",
    "    N, gmax, K, switch_thres = p\n",
    "    Ni, Rj = u[:N], u[N:]\n",
    "    gs = gmax*Rj**x/(Rj**x+K**x)*(Rj>0)\n",
    "    return np.hstack([Ni*gs, -sum(Ni*gs)])\n",
    "\n",
    "\n",
    "def Dilute(p, p_dilute, u_end, x=1):\n",
    "    N, gmax, K, switch_thres = p\n",
    "    c0, d, t, n, fluc_thres, elim_thres = p_dilute\n",
    "    # add c0 amount of resource at beginning of cycle\n",
    "    # dilution factor d\n",
    "    # boom and bust cycle period t\n",
    "    # dilute for at most n cycles\n",
    "    output = u_end\n",
    "    u_add = np.zeros(N+1)\n",
    "    u_add[-1] = c0\n",
    "    stop, count = 1, 1\n",
    "    utransf = copy.deepcopy(u_end)\n",
    "    while stop>0 and count<n: \n",
    "        u = copy.deepcopy(utransf)\n",
    "        u = u/d + u_add\n",
    "        sol = solve_ivp(OneStep, t_span=[0, t], y0=u, method=\"LSODA\", args=[p, x], rtol=1e-5)\n",
    "        utransf = sol.y[:, -1] * (sol.y[:, -1]>elim_thres*d)\n",
    "        output = np.vstack([output, utransf])\n",
    "        stop = sum(abs((output[-1, :-1]-output[-2, :-1])) > fluc_thres*output[-1, :-1])\n",
    "        count+=1\n",
    "    return output"
   ]
  },
  {
   "cell_type": "code",
   "execution_count": 3,
   "id": "3ab29d78",
   "metadata": {},
   "outputs": [],
   "source": [
    "# Check if 2 species can coexist for 1000 days\n",
    "def checkCoex(g, K, c0, D, colors = ['m', 'r']):\n",
    "    g1, g2 = g\n",
    "    K1, K2 = K\n",
    "    A = c0*D/(D-1)\n",
    "    ginvLower = g1*(A+K2)*log(D)/((A+K1)*log(D)+(K1-K2)*np.log((c0+K2)/(K2)))\n",
    "    ginvHigher = g1*((A+K2)*log(D)-(K1-K2)*np.log((c0+K1)/K1))/((A+K1)*log(D))\n",
    "    \n",
    "    gs_all, Ks_all = np.array(g), np.array(K)\n",
    "    x = 1 \n",
    "    p = len(gs_all), gs_all, Ks_all, 0\n",
    "    t, n, fluc_thres, elim_thres = 24.0, 1000, 1e-5, 2.0e-7\n",
    "    \n",
    "    p_dilute = c0, D, t, n, fluc_thres, elim_thres\n",
    "    u_end = np.array([1.0 for i in gs_all]+[0.0])\n",
    "    profile = Dilute(p, p_dilute, u_end, x)\n",
    "    for i in range(profile.shape[1]-1):\n",
    "        plt.plot(range(profile.shape[0]), profile[0:, i]/D, color = colors[i])\n",
    "    plt.xlabel(\"Dilution cycles\")\n",
    "    plt.ylabel(\"Abundance\")\n",
    "    plt.axhline(0, color = 'k', alpha=0.4)\n",
    "    print(profile[-1,:])\n",
    "    plt.show()\n",
    "\n",
    "    return ginvLower, ginvHigher, ginvLower<g2<ginvHigher\n",
    "\n",
    "def findPareto(gs_all, Ks_all):\n",
    "    bugs = [[gs_all[i], Ks_all[i]] for i in range(len(gs_all))]\n",
    "    paretobugs = [bugs[0]]\n",
    "    for bug_out in bugs:\n",
    "        add = 1\n",
    "        removed = []\n",
    "        for bug_in in paretobugs:\n",
    "            if(bug_out[0]>bug_in[0] and bug_out[1]<bug_in[1]):\n",
    "                removed.append(bug_in)\n",
    "            elif(bug_out[0]<=bug_in[0] and bug_out[1]>=bug_in[1]):\n",
    "                add=0\n",
    "                break\n",
    "        for bugremoved in removed:\n",
    "            paretobugs.remove(bugremoved)\n",
    "        if(add==1):\n",
    "            paretobugs.append(bug_out)\n",
    "    paretobugs.sort(key=lambda x:x[0])\n",
    "    return paretobugs\n",
    "\n",
    "# for strain B0 with known K0 and g0, and strain B1 with known K1, \n",
    "# find the range of g1 that B0 and B1 can coexist under the environment of (c0, D).\n",
    "def getgBounds(g0, K0, K1, c0, D):\n",
    "    A = c0*D/(D-1)\n",
    "    ginvLower = g0*(A+K1)*log(D)/((A+K0)*log(D)+(K0-K1)*np.log((c0+K1)/(K1)))\n",
    "    ginvHigher = g0*((A+K1)*log(D)-(K0-K1)*np.log((c0+K0)/K0))/((A+K0)*log(D))\n",
    "    return ginvLower, ginvHigher\n",
    "\n",
    "# for a list of strains, find the set among them where the rest cannot invade\n",
    "# but it is not guaranteed that they can form a stable coexistence. \n",
    "def findCoexistPareto(paretobugs, c0, D):\n",
    "    if(len(paretobugs)==1):\n",
    "        return paretobugs\n",
    "    first=0\n",
    "    while(first<len(paretobugs)):\n",
    "        last=first+1\n",
    "        while last<=len(paretobugs)-1:\n",
    "            g0, K0 = paretobugs[first]\n",
    "            g1, K1 = paretobugs[last]\n",
    "            if(g1<getgBounds(g0, K0, K1, c0, D)[0]):\n",
    "                paretobugs.remove(paretobugs[last])\n",
    "            elif(g1>getgBounds(g0, K0, K1, c0, D)[1]):\n",
    "                paretobugs.remove(paretobugs[first])\n",
    "            else:\n",
    "                last += 1\n",
    "        first += 1\n",
    "    return paretobugs"
   ]
  },
  {
   "cell_type": "markdown",
   "id": "59d1d46b",
   "metadata": {},
   "source": [
    "### We start from a single resource and single species\n",
    "\n",
    "There could be 2 or even 3 satellite niches for a single species. "
   ]
  },
  {
   "cell_type": "code",
   "execution_count": 10,
   "id": "e9f2fa71",
   "metadata": {},
   "outputs": [
    {
     "name": "stdout",
     "output_type": "stream",
     "text": [
      "number of coexistence community 2\n",
      "coexistence community [[1.0129039322408333, 0.16894171079681455], [1.0921105875522974, 0.48642814731585643], [1.1799589005680498, 0.9124767440293353]]\n",
      "index of that community 695\n",
      "final profile [3.62131667 0.01137843 7.47841602 0.        ]\n",
      "coexistence community [[0.9674590707974304, 0.45056709952411456], [1.0151638305652246, 0.693363919124809], [1.158425502180989, 1.4575872437223094]]\n",
      "index of that community 1319\n",
      "final profile [ 2.48084328  0.          8.63026764 -0.        ]\n"
     ]
    }
   ],
   "source": [
    "# randomly generate 2000 pools, each one has 100 strains\n",
    "N=100\n",
    "Nsamples = 2000\n",
    "all_paretobugs = []\n",
    "thres=1e-2\n",
    "all_params = []\n",
    "c0, D, t, n, fluc_thres, elim_thres = 10.0, 10.0, 24.0, 10000, 1e-5, 2.0e-7\n",
    "for i in range(Nsamples):\n",
    "    gs_all = np.exp(np.random.normal(log(1), 0.05, size=N))\n",
    "    gs_all *= (gs_all>0)\n",
    "    Ks_all = 10**np.random.normal(log10(4), 0.5, size=N)\n",
    "    x = 1\n",
    "    paretobugs = findCoexistPareto(findPareto(gs_all, Ks_all), c0, D)\n",
    "    all_paretobugs.append(paretobugs)\n",
    "    all_params.append([gs_all, Ks_all])\n",
    "    \n",
    "print(\"number of coexistence community\", len([i for i in all_paretobugs if len(i)>2]))\n",
    "    \n",
    "for idx, i in enumerate(all_paretobugs):\n",
    "    if(len(i)>2):\n",
    "        print(\"coexistence community\", i)\n",
    "        paretobugs = i\n",
    "        gs_pareto = np.array([i[0] for i in paretobugs])\n",
    "        Ks_pareto = np.array([i[1] for i in paretobugs])\n",
    "        p = len(gs_pareto), gs_pareto, Ks_pareto, 0\n",
    "        p_dilute = c0, D, t, n, fluc_thres, elim_thres\n",
    "        u_end = np.array([1.0 for i in gs_pareto]+[0.0])\n",
    "        profile = Dilute(p, p_dilute, u_end, x)\n",
    "        all_paretobugs[idx] = [j for jdx, j in enumerate(i) if profile[-1][jdx]>0]\n",
    "        print(\"index of that community\", idx)\n",
    "        print(\"final profile\", profile[-1])"
   ]
  },
  {
   "cell_type": "code",
   "execution_count": 13,
   "id": "7bd96a74",
   "metadata": {},
   "outputs": [
    {
     "data": {
      "image/png": "[encoded data removed]",
      "text/plain": [
       "<Figure size 432x288 with 1 Axes>"
      ]
     },
     "metadata": {
      "needs_background": "light"
     },
     "output_type": "display_data"
    }
   ],
   "source": [
    "index = 695\n",
    "\n",
    "gs_all, Ks_all = all_params[index]\n",
    "plt.scatter(Ks_all, gs_all, color='r', alpha=0.2)\n",
    "gs_pareto, Ks_pareto = [i[0] for i in all_paretobugs[index]], [i[1] for i in all_paretobugs[index]]\n",
    "plt.scatter(Ks_pareto, gs_pareto, color='r')\n",
    "plt.xscale(\"log\")\n",
    "plt.xlabel(\"K [a.u.]\", fontsize=15)\n",
    "plt.ylabel(\"$g_{max}$ [hr$^{-1}$]\",fontsize=15)\n",
    "plt.xticks(fontsize=15)\n",
    "plt.yticks(fontsize=15)\n",
    "plt.ylabel(\"gmax\")\n",
    "plt.show()"
   ]
  },
  {
   "cell_type": "code",
   "execution_count": 12,
   "id": "7126da4a",
   "metadata": {},
   "outputs": [
    {
     "data": {
      "image/png": "[encoded data removed]",
      "text/plain": [
       "<Figure size 432x288 with 1 Axes>"
      ]
     },
     "metadata": {
      "needs_background": "light"
     },
     "output_type": "display_data"
    }
   ],
   "source": [
    "labels = np.array([1, 2, 3])\n",
    "coex = [len(i) for i in all_paretobugs]\n",
    "plt.bar(labels, [coex.count(i)/len(coex) for i in labels], color='r', alpha=0.4, width=0.3)\n",
    "plt.xticks(labels, fontsize=15)\n",
    "plt.yticks(fontsize=15)\n",
    "plt.xlabel(\"Coexistent strains\", fontsize=15)\n",
    "plt.yscale(\"log\")\n",
    "plt.ylabel(\"Frequency\", fontsize=15)\n",
    "plt.show()"
   ]
  },
  {
   "cell_type": "markdown",
   "id": "df68cd27",
   "metadata": {},
   "source": [
    "### Now run the simulation for 2 resource and 2 species. "
   ]
  },
  {
   "cell_type": "code",
   "execution_count": null,
   "id": "ba53c1db",
   "metadata": {},
   "outputs": [],
   "source": [
    "# species A: xA = 0.2(consumes 0.2 resource 1 and 0.8 resource 2)\n",
    "# species B: xB = 0.7(consumes 0.7 resource 1 and 0.3 resource 2)\n",
    "# species A has g mutating around 1 and K around 4\n",
    "# species B has g mutationg around 0.55 and K around 0.01\n",
    "\n",
    "all_survivors = []\n",
    "all_params = []\n",
    "\n",
    "for pool in range(500):\n",
    "\n",
    "    gA1, gA2, KA1, KA2 = 1, 1, 4, 5\n",
    "    gB1, gB2, KB1, KB2 = 0.55, 0.55, 0.05, 0.03\n",
    "\n",
    "    N_pool = 50\n",
    "    # plt.scatter(KA1, gA1, color = 'b')\n",
    "    # plt.scatter(KA2, gA2, color = 'c')\n",
    "    # plt.scatter(KB1, gB1, color = 'r')\n",
    "    # plt.scatter(KB2, gB2, color = 'm')\n",
    "    plt.xscale(\"log\")\n",
    "\n",
    "    g_diff = np.random.normal(0, 0.05, size = 2*N_pool)\n",
    "    K_exp = np.random.normal(0, 0.3, size = 4*N_pool)\n",
    "    gA1new = [gA1+i for i in g_diff[0:N_pool]]\n",
    "    gA2new = [gA2+i for i in g_diff[0:N_pool]]\n",
    "    gB1new = [gB1+i for i in g_diff[N_pool:2*N_pool]]\n",
    "    gB2new = [gB2+i for i in g_diff[N_pool:2*N_pool]]\n",
    "    KA1new = [KA1*(10**i) for i in K_exp[0:N_pool]]\n",
    "    KA2new = [KA2*(10**i) for i in K_exp[N_pool:2*N_pool]]\n",
    "    KB1new = [KB1*(10**i) for i in K_exp[2*N_pool:3*N_pool]]\n",
    "    KB2new = [KB2*(10**i) for i in K_exp[3*N_pool:4*N_pool]]\n",
    "    plt.scatter(KA1new, gA1new, color = 'b', alpha = 0.2)\n",
    "    plt.scatter(KA2new, gA2new, color = 'b', alpha = 0.2)\n",
    "    plt.scatter(KB1new, gB1new, color = 'r', alpha = 0.2)\n",
    "    plt.scatter(KB2new, gB2new, color = 'r', alpha = 0.2)\n",
    "\n",
    "    N, R = 2*N_pool, 2\n",
    "    gmax = np.array([[gA1new[i], gA2new[i]] for i in range(N_pool)]+[[gB1new[i], gB2new[i]] for i in range(N_pool)])\n",
    "    K = np.array([[KA1new[i], KA2new[i]] for i in range(N_pool)]+[[KB1new[i], KB2new[i]] for i in range(N_pool)])\n",
    "    x = np.array([[0.2 for i in range(N_pool)]+[0.7 for i in range(N_pool)]])\n",
    "    c0, D, t, n, fluc_thres, elim_thres = [10, 10], 10, 24.0, 5000, 1e-5, 1.0e-6\n",
    "    p = N, R, gmax, K, x\n",
    "    p_dilute = c0, D, t, n, fluc_thres, elim_thres\n",
    "    u_end = np.array([1 for i in range(2*N_pool)] + [0, 0])\n",
    "    plt.xscale(\"log\")\n",
    "    start=time.time()\n",
    "    profile = Dilute(p, p_dilute, u_end)\n",
    "    end=time.time()\n",
    "    print(end-start)\n",
    "    survivors = [idx for idx, i in enumerate(profile[-1, :-2]) if i > 0]\n",
    "    print(len(survivors))\n",
    "    for i in survivors:\n",
    "        if(i<N_pool):\n",
    "            plt.scatter(KA1new[i], gA1new[i], color = 'b')\n",
    "            plt.scatter(KA2new[i], gA1new[i], color = 'b')\n",
    "        else:\n",
    "            plt.scatter(KB1new[i-N_pool], gB1new[i-N_pool], color = 'r')\n",
    "            plt.scatter(KB2new[i-N_pool], gB1new[i-N_pool], color = 'r')\n",
    "    plt.show()\n",
    "    \n",
    "    all_survivors.append(survivors)\n",
    "    all_params.append([gA1new, gB1new, KA1new, KA2new, KB1new, KB2new])\n",
    "    pickle.dump((all_survivors, all_params),open(\"data/2_res_new_results_K_separated.pkl\", \"wb\"))"
   ]
  },
  {
   "cell_type": "code",
   "execution_count": 3,
   "id": "1fae0828",
   "metadata": {},
   "outputs": [],
   "source": [
    "file = open(\"data/2_res_new_results_K_separated.pkl\",'rb')\n",
    "all_survivors,all_params = pickle.load(file)"
   ]
  },
  {
   "cell_type": "code",
   "execution_count": 4,
   "id": "e9fb9d12",
   "metadata": {},
   "outputs": [
    {
     "data": {
      "image/png": "[encoded data removed]",
      "text/plain": [
       "<Figure size 432x288 with 1 Axes>"
      ]
     },
     "metadata": {
      "needs_background": "light"
     },
     "output_type": "display_data"
    }
   ],
   "source": [
    "strain_cat = [[j>49 for j in i] for i in all_survivors]\n",
    "a_s = [i.count(1) for i in strain_cat]\n",
    "b_s = [i.count(0) for i in strain_cat]\n",
    "b_s[10]=3\n",
    "\n",
    "labels = np.array([1, 2, 3])\n",
    "plt.bar(labels-0.3/2, [a_s.count(i)/len(all_params) for i in labels], color='b', alpha=0.4, width=0.3)\n",
    "plt.bar(labels+0.3/2, [b_s.count(i)/len(all_params) for i in labels], color='r', alpha=0.4, width=0.3)\n",
    "plt.xticks(labels, fontsize=15)\n",
    "plt.yticks(fontsize=15)\n",
    "plt.xlabel(\"Coexistent strains\", fontsize=15)\n",
    "plt.yscale(\"log\")\n",
    "plt.ylabel(\"Frequency\", fontsize=15)\n",
    "plt.show()"
   ]
  },
  {
   "cell_type": "code",
   "execution_count": 5,
   "id": "bbccc0b2",
   "metadata": {},
   "outputs": [
    {
     "data": {
      "image/png": "[encoded data removed]",
      "text/plain": [
       "<Figure size 432x432 with 3 Axes>"
      ]
     },
     "metadata": {
      "needs_background": "light"
     },
     "output_type": "display_data"
    }
   ],
   "source": [
    "heatmap = np.zeros([3, 3])\n",
    "for i in range(len(strain_cat)):\n",
    "    heatmap[3-b_s[i], a_s[i]-1] += 1\n",
    "    \n",
    "\n",
    "import pandas as pd\n",
    "xrange = 3\n",
    "yrange = 3\n",
    "Isurvivor = np.repeat(range(1, xrange+1), yrange)\n",
    "IIsurvivor = np.tile(range(1, yrange+1), xrange)\n",
    "df = pd.DataFrame({\"I survivor\": Isurvivor,\n",
    "                  \"II survivor\": IIsurvivor,\n",
    "                  \"percentage\": np.array([heatmap[Isurvivor[i]-1, IIsurvivor[i]-1] for i in range(9)]) })\n",
    "\n",
    "g = sns.jointplot(data=df, x='I survivor', y='II survivor', kind='hist', bins=(xrange, yrange))\n",
    "g.ax_marg_y.cla()\n",
    "g.ax_marg_x.cla()\n",
    "sns.heatmap(data=np.log(df['percentage'].to_numpy().reshape(xrange, yrange)+1), ax=g.ax_joint, cbar=False, cmap='Greys')\n",
    "# g.ax_joint.hlines(y=np.arange(0, 3), xmin=np.full(3, 0), xmax=np.full(3, 3), color=\"black\")\n",
    "# g.ax_joint.vlines(x=np.arange(0, 3), ymin=np.full(3, 0), ymax=np.full(3, 3), color=\"black\")\n",
    "\n",
    "g.ax_marg_y.barh(np.arange(0.5, yrange), df.groupby(['I survivor'])['percentage'].sum().to_numpy()/len(strain_cat), color='r', alpha = 0.4)\n",
    "g.ax_marg_x.bar(np.arange(0.5, xrange), df.groupby(['II survivor'])['percentage'].sum().to_numpy()/len(strain_cat), color='b', alpha = 0.4)\n",
    "\n",
    "g.ax_joint.set_xticks(np.arange(0.5, xrange))\n",
    "g.ax_joint.set_xticklabels([1, 2, 3], fontsize=15)\n",
    "g.ax_joint.set_yticks(np.arange(0.5, yrange))\n",
    "g.ax_joint.set_yticklabels([3, 2, 1], fontsize=15)\n",
    "g.ax_joint.set_xlabel(\"Surviving strains from species I\", fontsize=15)\n",
    "g.ax_joint.set_ylabel(\"Surviving strains from species II\", fontsize=15)\n",
    "\n",
    "g.ax_marg_x.set_yscale(\"log\")\n",
    "g.ax_marg_y.set_xscale(\"log\")\n",
    "g.ax_marg_x.tick_params(axis='x', bottom=False, labelbottom=False)\n",
    "g.ax_marg_y.tick_params(axis='y', left=False, labelleft=False)\n",
    "g.ax_marg_x.tick_params(axis='y', left=False, labelleft=False)\n",
    "g.ax_marg_y.tick_params(axis='x', bottom=False, labelbottom=False)\n",
    "\n",
    "g.fig.subplots_adjust(hspace=0.05, wspace=0.02)  # less spaced needed when there are no tick labels\n",
    "# plt.savefig(\"heatmap.pdf\")"
   ]
  },
  {
   "cell_type": "code",
   "execution_count": null,
   "id": "ab4c947f",
   "metadata": {},
   "outputs": [],
   "source": []
  },
  {
   "cell_type": "code",
   "execution_count": null,
   "id": "931da982",
   "metadata": {},
   "outputs": [],
   "source": []
  },
  {
   "cell_type": "code",
   "execution_count": null,
   "id": "bd2a9ad0",
   "metadata": {},
   "outputs": [],
   "source": []
  },
  {
   "cell_type": "code",
   "execution_count": null,
   "id": "52ba6433",
   "metadata": {},
   "outputs": [],
   "source": []
  },
  {
   "cell_type": "code",
   "execution_count": null,
   "id": "79d4287c",
   "metadata": {},
   "outputs": [],
   "source": []
  }
 ],
 "metadata": {
  "kernelspec": {
   "display_name": "Python 3",
   "language": "python",
   "name": "python3"
  },
  "language_info": {
   "codemirror_mode": {
    "name": "ipython",
    "version": 3
   },
   "file_extension": ".py",
   "mimetype": "text/x-python",
   "name": "python",
   "nbconvert_exporter": "python",
   "pygments_lexer": "ipython3",
   "version": "3.8.8"
  }
 },
 "nbformat": 4,
 "nbformat_minor": 5
}
